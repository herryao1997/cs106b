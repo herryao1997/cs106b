{
 "cells": [
  {
   "cell_type": "code",
   "execution_count": 1,
   "id": "7cb20084",
   "metadata": {},
   "outputs": [],
   "source": [
    "import os\n",
    "os. environ[\"KMP_DUPLICATE_LIB_OK\"] = \"TRUE\""
   ]
  },
  {
   "cell_type": "markdown",
   "id": "03242ff0",
   "metadata": {},
   "source": [
    "# vector\n",
    "\n",
    "only with push_back()\n",
    "\n",
    "```cpp\n",
    "#include <iostream>\n",
    "#include <string>\n",
    "#include <vector>\n",
    "\n",
    "using namespace std;\n",
    "\n",
    "vector<string> c;\n",
    "\n",
    "vector<string>::iterator it = c.begin();\n",
    "\n",
    "for(it; it != c.end(); it++){}\n",
    "    \n",
    "for(auto it: c){}\n",
    "```"
   ]
  }
 ],
 "metadata": {
  "kernelspec": {
   "display_name": "Python 3",
   "language": "python",
   "name": "python3"
  },
  "language_info": {
   "codemirror_mode": {
    "name": "ipython",
    "version": 3
   },
   "file_extension": ".py",
   "mimetype": "text/x-python",
   "name": "python",
   "nbconvert_exporter": "python",
   "pygments_lexer": "ipython3",
   "version": "3.8.13"
  }
 },
 "nbformat": 4,
 "nbformat_minor": 5
}
