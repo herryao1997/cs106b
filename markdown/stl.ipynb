{
 "cells": [
  {
   "cell_type": "code",
   "execution_count": 1,
   "id": "395d576a",
   "metadata": {},
   "outputs": [],
   "source": [
    "import os\n",
    "os.environ['KMP_DUPLICATE_LIB_OK'] = 'TRUE'"
   ]
  },
  {
   "cell_type": "markdown",
   "id": "794ff308",
   "metadata": {},
   "source": [
    "**ppp**\n",
    "\n",
    "*ppp*\n",
    "\n",
    "***ppp***\n",
    "\n",
    "~~ppp~~\n",
    "# title1\n",
    "## title2\n",
    "### title3\n",
    "#### title4\n",
    "1. aaaa\n",
    "2. aaaa\n",
    "3. aaaa\n",
    "4. aaaa\n",
    "4. aaaa\n",
    "\n",
    "- aaaa\n",
    "- aaaa\n",
    "- aaaa\n",
    "\n",
    "- [x] option\n",
    "- [ ] option\n",
    "\n",
    "1. [x] option\n",
    "2. [ ] option\n",
    "\n",
    "```cpp\n",
    "#include <iostream>\n",
    "\n",
    "using namespace std;\n",
    "\n",
    "int main(int argc, char* argv)\n",
    "{\n",
    "    cout << \"hello, world!\" << endl;\n",
    "    \n",
    "    return 0;\n",
    "}\n",
    "```\n",
    "\n",
    "***\n",
    "\n",
    "```python\n",
    "import os\n",
    "\n",
    "print(\"hello, world!\")\n",
    "```\n",
    "\n",
    "[~***reference***~](https://www.bilibili.com/video/BV1hG4y1H7iZ?p=10&spm_id_from=pageDriver&vd_source=5fa88c8b2e2467c1aa78fbd0a9ff1490)\n",
    "\n",
    "[![transformers](test.jpeg \"Transformers\")](https://en.wikipedia.org/wiki/Transformers_(film_series))\n",
    "\n",
    "***\n",
    "\n",
    "|<span style=\"color: red\">first column|second column|third column|\n",
    "|:---|:---:|---:|\n",
    "|second row|second row|second row|\n",
    "|third row|third row|<span style=\"color: red\">third row|\n",
    "    \n",
    "***\n",
    "\n",
    "$$\n",
    "f(x) = \\int_{-\\infty}^\\infty\n",
    "    \\hat{f}(\\xi)\\,e^{2 \\pi i \\xi x}\\,d\\xi\n",
    "$$"
   ]
  }
 ],
 "metadata": {
  "kernelspec": {
   "display_name": "Python 3",
   "language": "python",
   "name": "python3"
  },
  "language_info": {
   "codemirror_mode": {
    "name": "ipython",
    "version": 3
   },
   "file_extension": ".py",
   "mimetype": "text/x-python",
   "name": "python",
   "nbconvert_exporter": "python",
   "pygments_lexer": "ipython3",
   "version": "3.8.13"
  }
 },
 "nbformat": 4,
 "nbformat_minor": 5
}
