{
 "cells": [
  {
   "cell_type": "code",
   "execution_count": 6,
   "id": "8abc182a",
   "metadata": {},
   "outputs": [],
   "source": [
    "import time"
   ]
  },
  {
   "cell_type": "code",
   "execution_count": 7,
   "id": "1e248bd0",
   "metadata": {},
   "outputs": [],
   "source": [
    "def divisor_sum(n):\n",
    "    total = 0\n",
    "    for divisor in range(1, n):\n",
    "        if (n % divisor == 0):\n",
    "            total += divisor\n",
    "    return total"
   ]
  },
  {
   "cell_type": "code",
   "execution_count": 8,
   "id": "c5023e4c",
   "metadata": {},
   "outputs": [],
   "source": [
    "def is_perfect(n):\n",
    "    if (divisor_sum(n) == n):\n",
    "        return True\n",
    "    else:\n",
    "        return False"
   ]
  },
  {
   "cell_type": "code",
   "execution_count": 9,
   "id": "725e94b9",
   "metadata": {},
   "outputs": [],
   "source": [
    "def find_perfects(stop):\n",
    "    for num in range(1, stop):\n",
    "        if is_perfect(num):\n",
    "            print(\"found perfect num: \", num)\n",
    "        if num % 10000 == 0:\n",
    "            print('.', end = '', flush = True)\n",
    "    print(\"done searching up to \", stop)"
   ]
  },
  {
   "cell_type": "code",
   "execution_count": 10,
   "id": "8294472f",
   "metadata": {},
   "outputs": [
    {
     "name": "stdout",
     "output_type": "stream",
     "text": [
      "found perfect num:  6\n",
      "found perfect num:  28\n",
      "found perfect num:  496\n",
      "found perfect num:  8128\n",
      ".........done searching up to  100000\n",
      "199.87709188461304\n"
     ]
    }
   ],
   "source": [
    "if __name__ == \"__main__\":\n",
    "    start = time.time()\n",
    "    find_perfects(100000)\n",
    "    stop = time.time()\n",
    "    print(stop - start)"
   ]
  }
 ],
 "metadata": {
  "kernelspec": {
   "display_name": "Python 3",
   "language": "python",
   "name": "python3"
  },
  "language_info": {
   "codemirror_mode": {
    "name": "ipython",
    "version": 3
   },
   "file_extension": ".py",
   "mimetype": "text/x-python",
   "name": "python",
   "nbconvert_exporter": "python",
   "pygments_lexer": "ipython3",
   "version": "3.8.13"
  }
 },
 "nbformat": 4,
 "nbformat_minor": 5
}
